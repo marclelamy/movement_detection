{
 "cells": [
  {
   "cell_type": "markdown",
   "metadata": {},
   "source": [
    "### Import modules"
   ]
  },
  {
   "cell_type": "code",
   "execution_count": null,
   "metadata": {},
   "outputs": [],
   "source": [
    "import cv2\n",
    "from PIL import Image, ImageOps\n",
    "import time\n",
    "from datetime import datetime"
   ]
  },
  {
   "cell_type": "code",
   "execution_count": 39,
   "metadata": {},
   "outputs": [
    {
     "name": "stdout",
     "output_type": "stream",
     "text": [
      "97.91\r"
     ]
    },
    {
     "ename": "KeyboardInterrupt",
     "evalue": "",
     "output_type": "error",
     "traceback": [
      "\u001b[0;31m---------------------------------------------------------------------------\u001b[0m",
      "\u001b[0;31mKeyboardInterrupt\u001b[0m                         Traceback (most recent call last)",
      "\u001b[0;32m/var/folders/fm/9xytvm5s0h189_f6mtp4wkhm0000gn/T/ipykernel_36629/2882154133.py\u001b[0m in \u001b[0;36m<module>\u001b[0;34m\u001b[0m\n\u001b[1;32m     32\u001b[0m     \u001b[0mcv2\u001b[0m\u001b[0;34m.\u001b[0m\u001b[0mimwrite\u001b[0m\u001b[0;34m(\u001b[0m\u001b[0mlast_img_path\u001b[0m\u001b[0;34m,\u001b[0m \u001b[0mimage\u001b[0m\u001b[0;34m)\u001b[0m\u001b[0;34m\u001b[0m\u001b[0;34m\u001b[0m\u001b[0m\n\u001b[1;32m     33\u001b[0m \u001b[0;34m\u001b[0m\u001b[0m\n\u001b[0;32m---> 34\u001b[0;31m     \u001b[0mtime\u001b[0m\u001b[0;34m.\u001b[0m\u001b[0msleep\u001b[0m\u001b[0;34m(\u001b[0m\u001b[0mtime_sleep\u001b[0m\u001b[0;34m)\u001b[0m\u001b[0;34m\u001b[0m\u001b[0;34m\u001b[0m\u001b[0m\n\u001b[0m",
      "\u001b[0;31mKeyboardInterrupt\u001b[0m: "
     ]
    }
   ],
   "source": [
    "# initialize the camera\n",
    "camera = cv2.VideoCapture(0)\n",
    "\n",
    "# Saves an initial image\n",
    "return_value, image = camera.read()\n",
    "cv2.imwrite(f'last_image.png', image)\n",
    "\n",
    "# Defining images paths\n",
    "last_img_path = \"last_image.png\"\n",
    "new_img_path = \"new_image.png\"\n",
    "\n",
    "time_sleep = 0\n",
    "while True:\n",
    "    # Saves new image\n",
    "    return_value, image = camera.read()\n",
    "    cv2.imwrite(new_img_path, image)\n",
    "\n",
    "    # Compare both images\n",
    "    similarity_score = image_similarity(last_img_path, new_img_path)\n",
    "\n",
    "    # Check if the images are not similar, if true, writes the image in a folder\n",
    "    if similarity_score < 95:\n",
    "        time_now = str(datetime.now()).split(\" \")[1].split(\".\")[0]\n",
    "        cv2.imwrite(f\"saved_photos/{time_now}_{new_img_path}\", image)\n",
    "        time_sleep = 0\n",
    "    \n",
    "    else:\n",
    "        time_sleep = 1\n",
    "\n",
    "    print(similarity_score, end=\"\\r\")\n",
    "\n",
    "    # Replace the last by the new image\n",
    "    cv2.imwrite(last_img_path, image)\n",
    "\n",
    "    # Sleep if no sus \n",
    "    time.sleep(time_sleep)"
   ]
  }
 ],
 "metadata": {
  "interpreter": {
   "hash": "ac627401760d122c1c51ccff658fe66607e5c34cc7c1a1a973625217d2d7604a"
  },
  "kernelspec": {
   "display_name": "Python 3.9.9 64-bit ('3.9.9')",
   "language": "python",
   "name": "python3"
  },
  "language_info": {
   "codemirror_mode": {
    "name": "ipython",
    "version": 3
   },
   "file_extension": ".py",
   "mimetype": "text/x-python",
   "name": "python",
   "nbconvert_exporter": "python",
   "pygments_lexer": "ipython3",
   "version": "3.9.9"
  },
  "orig_nbformat": 4
 },
 "nbformat": 4,
 "nbformat_minor": 2
}

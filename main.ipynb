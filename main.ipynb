{
 "cells": [
  {
   "cell_type": "markdown",
   "metadata": {},
   "source": [
    "### Import modules"
   ]
  },
  {
   "cell_type": "code",
   "execution_count": null,
   "metadata": {},
   "outputs": [],
   "source": [
    "# Control webcam and take photos\n",
    "import cv2\n",
    "\n",
    "# Open image and compare them\n",
    "from PIL import Image, ImageOps\n",
    "\n",
    "# To become Dr Strange\n",
    "import time\n",
    "from datetime import datetime"
   ]
  },
  {
   "cell_type": "markdown",
   "metadata": {},
   "source": [
    "### Defining UDF\n",
    "\n",
    "This function will compare both images and return a score between 0-100"
   ]
  },
  {
   "cell_type": "code",
   "execution_count": 45,
   "metadata": {},
   "outputs": [],
   "source": [
    "def image_similarity(image1, image2, mirror=True):\n",
    "    \"\"\"Compare two images and return a float indicating a similarity score \n",
    "    between 0 and 100 where 100 means both images are identicals. \n",
    "    Takes two arguments, photo paths.\n",
    "    If mirror is True, it will mirror the image.\"\"\"\n",
    "    i1 = Image.open(image1)\n",
    "    m1 = ImageOps.mirror(i1)\n",
    "    i2 = Image.open(image2)\n",
    "\n",
    "    if i1.size != i2.size:\n",
    "        return 0\n",
    "\n",
    "    results = []\n",
    "    photos = [i1] if mirror == False else [i1, m1]\n",
    "    \n",
    "    for img1 in photos:\n",
    "        pairs = zip(img1.getdata(), i2.getdata())\n",
    "        if len(img1.getbands()) == 1:\n",
    "            # for gray-scale jpegs\n",
    "            dif = sum(abs(p1-p2) for p1,p2 in pairs)\n",
    "        else:\n",
    "            dif = sum(abs(c1-c2) for p1,p2 in pairs for c1,c2 in zip(p1,p2))\n",
    "\n",
    "        ncomponents = img1.size[0] * img1.size[1] * 3\n",
    "        \n",
    "        results.append(round(100 - (dif / 255.0 * 100 / ncomponents), 2))\n",
    "    \n",
    "    \n",
    "    return max(results)"
   ]
  },
  {
   "cell_type": "markdown",
   "metadata": {},
   "source": [
    "### Main script"
   ]
  },
  {
   "cell_type": "code",
   "execution_count": 39,
   "metadata": {},
   "outputs": [
    {
     "name": "stdout",
     "output_type": "stream",
     "text": [
      "97.91\r"
     ]
    },
    {
     "ename": "KeyboardInterrupt",
     "evalue": "",
     "output_type": "error",
     "traceback": [
      "\u001b[0;31m---------------------------------------------------------------------------\u001b[0m",
      "\u001b[0;31mKeyboardInterrupt\u001b[0m                         Traceback (most recent call last)",
      "\u001b[0;32m/var/folders/fm/9xytvm5s0h189_f6mtp4wkhm0000gn/T/ipykernel_36629/2882154133.py\u001b[0m in \u001b[0;36m<module>\u001b[0;34m\u001b[0m\n\u001b[1;32m     32\u001b[0m     \u001b[0mcv2\u001b[0m\u001b[0;34m.\u001b[0m\u001b[0mimwrite\u001b[0m\u001b[0;34m(\u001b[0m\u001b[0mlast_img_path\u001b[0m\u001b[0;34m,\u001b[0m \u001b[0mimage\u001b[0m\u001b[0;34m)\u001b[0m\u001b[0;34m\u001b[0m\u001b[0;34m\u001b[0m\u001b[0m\n\u001b[1;32m     33\u001b[0m \u001b[0;34m\u001b[0m\u001b[0m\n\u001b[0;32m---> 34\u001b[0;31m     \u001b[0mtime\u001b[0m\u001b[0;34m.\u001b[0m\u001b[0msleep\u001b[0m\u001b[0;34m(\u001b[0m\u001b[0mtime_sleep\u001b[0m\u001b[0;34m)\u001b[0m\u001b[0;34m\u001b[0m\u001b[0;34m\u001b[0m\u001b[0m\n\u001b[0m",
      "\u001b[0;31mKeyboardInterrupt\u001b[0m: "
     ]
    }
   ],
   "source": [
    "# initialize the camera\n",
    "camera = cv2.VideoCapture(0)\n",
    "\n",
    "# Saves an initial image\n",
    "return_value, image = camera.read()\n",
    "cv2.imwrite(f'last_image.png', image)\n",
    "\n",
    "# Defining images paths\n",
    "last_img_path = \"last_image.png\"\n",
    "new_img_path = \"new_image.png\"\n",
    "\n",
    "time_sleep = 0\n",
    "while True:\n",
    "    # Saves new image\n",
    "    return_value, image = camera.read()\n",
    "    cv2.imwrite(new_img_path, image)\n",
    "\n",
    "    # Compare both images\n",
    "    similarity_score = image_similarity(last_img_path, new_img_path)\n",
    "\n",
    "    # Check if the images are not similar, if true, writes the image in a folder\n",
    "    if similarity_score < 95:\n",
    "        time_now = str(datetime.now()).split(\" \")[1].split(\".\")[0]\n",
    "        cv2.imwrite(f\"saved_photos/{time_now}_{new_img_path}\", image)\n",
    "        \n",
    "        # Chaning the time to 0 meaning it takes more images per minute as no time sleep \n",
    "        time_sleep = 0\n",
    "    \n",
    "    else:\n",
    "        time_sleep = 1\n",
    "\n",
    "\n",
    "    # Replace the last by the new image\n",
    "    cv2.imwrite(last_img_path, image)\n",
    "\n",
    "    # Sleep if no sus \n",
    "    time.sleep(time_sleep)"
   ]
  }
 ],
 "metadata": {
  "interpreter": {
   "hash": "ac627401760d122c1c51ccff658fe66607e5c34cc7c1a1a973625217d2d7604a"
  },
  "kernelspec": {
   "display_name": "Python 3.9.9 64-bit ('3.9.9')",
   "language": "python",
   "name": "python3"
  },
  "language_info": {
   "codemirror_mode": {
    "name": "ipython",
    "version": 3
   },
   "file_extension": ".py",
   "mimetype": "text/x-python",
   "name": "python",
   "nbconvert_exporter": "python",
   "pygments_lexer": "ipython3",
   "version": "3.9.9"
  },
  "orig_nbformat": 4
 },
 "nbformat": 4,
 "nbformat_minor": 2
}
